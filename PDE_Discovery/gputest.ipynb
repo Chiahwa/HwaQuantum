{
 "cells": [
  {
   "cell_type": "code",
   "id": "e164d457ab7a2cca",
   "metadata": {
    "ExecuteTime": {
     "end_time": "2025-03-24T16:39:11.877826Z",
     "start_time": "2025-03-24T16:39:09.648182Z"
    }
   },
   "source": [
    "import time\n",
    "import torch\n",
    "\n",
    "# 测试gpu计算耗时\n",
    "A = torch.ones(5000, 5000).to('xpu')\n",
    "B = torch.ones(5000, 5000).to('xpu')\n",
    "startTime2 = time.time()\n",
    "for i in range(100):\n",
    "    C = torch.matmul(A, B)\n",
    "endTime2 = time.time()\n",
    "print('gpu计算总时长:', round((endTime2 - startTime2) * 1000, 2), 'ms')"
   ],
   "outputs": [
    {
     "name": "stdout",
     "output_type": "stream",
     "text": [
      "gpu计算总时长: 821.33 ms\n"
     ]
    }
   ],
   "execution_count": 1
  },
  {
   "metadata": {
    "collapsed": true,
    "ExecuteTime": {
     "end_time": "2025-03-24T16:39:57.221666Z",
     "start_time": "2025-03-24T16:39:25.556874Z"
    }
   },
   "cell_type": "code",
   "source": [
    "\n",
    "# 测试cpu计算耗时\n",
    "A = torch.ones(5000, 5000)\n",
    "B = torch.ones(5000, 5000)\n",
    "startTime1 = time.time()\n",
    "for i in range(100):\n",
    "    C = torch.matmul(A, B)\n",
    "endTime1 = time.time()\n",
    "print('cpu计算总时长:', round((endTime1 - startTime1) * 1000, 2), 'ms')\n"
   ],
   "id": "initial_id",
   "outputs": [
    {
     "name": "stdout",
     "output_type": "stream",
     "text": [
      "cpu计算总时长: 31631.0 ms\n"
     ]
    }
   ],
   "execution_count": 2
  },
  {
   "metadata": {},
   "cell_type": "code",
   "outputs": [],
   "execution_count": null,
   "source": "",
   "id": "b9304d529292b837"
  }
 ],
 "metadata": {
  "kernelspec": {
   "display_name": "Python 3",
   "language": "python",
   "name": "python3"
  },
  "language_info": {
   "codemirror_mode": {
    "name": "ipython",
    "version": 2
   },
   "file_extension": ".py",
   "mimetype": "text/x-python",
   "name": "python",
   "nbconvert_exporter": "python",
   "pygments_lexer": "ipython2",
   "version": "2.7.6"
  }
 },
 "nbformat": 4,
 "nbformat_minor": 5
}
